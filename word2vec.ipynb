{
  "nbformat": 4,
  "nbformat_minor": 0,
  "metadata": {
    "colab": {
      "provenance": []
    },
    "kernelspec": {
      "name": "python3",
      "display_name": "Python 3"
    },
    "language_info": {
      "name": "python"
    }
  },
  "cells": [
    {
      "cell_type": "code",
      "execution_count": 1,
      "metadata": {
        "colab": {
          "base_uri": "https://localhost:8080/"
        },
        "id": "D83ub5GAuwRg",
        "outputId": "4adeafb7-ac3b-4cf3-ee14-7aca8e89866c"
      },
      "outputs": [
        {
          "output_type": "stream",
          "name": "stdout",
          "text": [
            "--2024-05-18 08:04:44--  https://dumps.wikimedia.org/zhwiki/20240501/zhwiki-20240501-pages-articles-multistream1.xml-p1p187712.bz2\n",
            "Resolving dumps.wikimedia.org (dumps.wikimedia.org)... 208.80.154.71, 2620:0:861:3:208:80:154:71\n",
            "Connecting to dumps.wikimedia.org (dumps.wikimedia.org)|208.80.154.71|:443... connected.\n",
            "HTTP request sent, awaiting response... 200 OK\n",
            "Length: 233419414 (223M) [application/octet-stream]\n",
            "Saving to: ‘zhwiki-20240501-pages-articles-multistream1.xml-p1p187712.bz2’\n",
            "\n",
            "zhwiki-20240501-pag 100%[===================>] 222.61M  4.57MB/s    in 49s     \n",
            "\n",
            "2024-05-18 08:05:33 (4.53 MB/s) - ‘zhwiki-20240501-pages-articles-multistream1.xml-p1p187712.bz2’ saved [233419414/233419414]\n",
            "\n"
          ]
        }
      ],
      "source": [
        "!wget https://dumps.wikimedia.org/zhwiki/20240501/zhwiki-20240501-pages-articles-multistream1.xml-p1p187712.bz2\n",
        "#使用wget工具從指定的URL下載中文維基百科的一部分數據。"
      ]
    },
    {
      "cell_type": "code",
      "source": [
        "!pip install opencc-python-reimplemented\n",
        "#安裝opencc-python-reimplemented庫，用於進行中文簡繁體轉換。"
      ],
      "metadata": {
        "colab": {
          "base_uri": "https://localhost:8080/"
        },
        "id": "B7hbvSSSvGPI",
        "outputId": "680b8a3e-77e9-417d-e8d0-1ac9daa50d16"
      },
      "execution_count": 2,
      "outputs": [
        {
          "output_type": "stream",
          "name": "stdout",
          "text": [
            "Collecting opencc-python-reimplemented\n",
            "  Downloading opencc_python_reimplemented-0.1.7-py2.py3-none-any.whl (481 kB)\n",
            "\u001b[?25l     \u001b[90m━━━━━━━━━━━━━━━━━━━━━━━━━━━━━━━━━━━━━━━━\u001b[0m \u001b[32m0.0/481.8 kB\u001b[0m \u001b[31m?\u001b[0m eta \u001b[36m-:--:--\u001b[0m\r\u001b[2K     \u001b[91m━━━━━━━━━━━━━━━━━━━━━━━━━━━━━━━━━━━━━━━\u001b[0m\u001b[91m╸\u001b[0m \u001b[32m481.3/481.8 kB\u001b[0m \u001b[31m17.1 MB/s\u001b[0m eta \u001b[36m0:00:01\u001b[0m\r\u001b[2K     \u001b[90m━━━━━━━━━━━━━━━━━━━━━━━━━━━━━━━━━━━━━━━━\u001b[0m \u001b[32m481.8/481.8 kB\u001b[0m \u001b[31m12.8 MB/s\u001b[0m eta \u001b[36m0:00:00\u001b[0m\n",
            "\u001b[?25hInstalling collected packages: opencc-python-reimplemented\n",
            "Successfully installed opencc-python-reimplemented-0.1.7\n"
          ]
        }
      ]
    },
    {
      "cell_type": "code",
      "source": [
        "from gensim.corpora import WikiCorpus\n",
        "#從gensim.corpora模組中匯入WikiCorpus類別，用於處理維基百科 XML 轉儲文件\n",
        "wiki_corpus = WikiCorpus('zhwiki-20240501-pages-articles-multistream1.xml-p1p187712.bz2', dictionary={})\n",
        "#創建了一個WikiCorpus類別的實例，用來處理指定的維基百科XML轉儲文件。"
      ],
      "metadata": {
        "id": "OlSzIZ5HvJ4U"
      },
      "execution_count": 3,
      "outputs": []
    },
    {
      "cell_type": "code",
      "source": [
        "wiki_corpus\n",
        "#顯示wiki_corpus變數的內容。"
      ],
      "metadata": {
        "colab": {
          "base_uri": "https://localhost:8080/"
        },
        "id": "IK82hBZ8vNpL",
        "outputId": "74e2ed1b-fcb1-4214-bbdf-96d224a5b522"
      },
      "execution_count": 4,
      "outputs": [
        {
          "output_type": "execute_result",
          "data": {
            "text/plain": [
              "<gensim.corpora.wikicorpus.WikiCorpus at 0x792576f78a60>"
            ]
          },
          "metadata": {},
          "execution_count": 4
        }
      ]
    },
    {
      "cell_type": "code",
      "source": [
        "next(iter(wiki_corpus.get_texts()))[:10]\n",
        "#從wiki_corpus中提取第一篇維基百科文章的文本，並顯示這篇文章的前10個單詞。\n"
      ],
      "metadata": {
        "colab": {
          "base_uri": "https://localhost:8080/"
        },
        "id": "JHvZx9P7vRDp",
        "outputId": "d03ba470-7e71-41c8-b199-e748087db4ae"
      },
      "execution_count": 5,
      "outputs": [
        {
          "output_type": "execute_result",
          "data": {
            "text/plain": [
              "['歐幾里得',\n",
              " '西元前三世紀的古希臘數學家',\n",
              " '而現在被認為是幾何之父',\n",
              " '此畫為拉斐爾的作品',\n",
              " '雅典學院',\n",
              " '数学',\n",
              " '是研究數量',\n",
              " '屬於形式科學的一種',\n",
              " '數學利用抽象化和邏輯推理',\n",
              " '從計數']"
            ]
          },
          "metadata": {},
          "execution_count": 5
        }
      ]
    },
    {
      "cell_type": "code",
      "source": [
        "text_num = 0\n",
        "#初始化一個計數器text_num，用於記錄處理的文章數量\n",
        "\n",
        "with open('wiki_text.txt', 'w', encoding='utf-8') as f:\n",
        "    for text in wiki_corpus.get_texts():\n",
        "        f.write(' '.join(text)+'\\n')\n",
        "        text_num += 1\n",
        "        if text_num % 10000 == 0:\n",
        "            print('{} articles processed.'.format(text_num))\n",
        "\n",
        "    print('{} articles processed.'.format(text_num))\n",
        "\"\"\"\n",
        "從wiki_corpus中提取每篇文章的文本，\n",
        "將其寫入wiki_text.txt文件中，\n",
        "同時記錄並打印已處理的文章數量，每處理10000篇文章打印一次進度消息。\n",
        "\"\"\""
      ],
      "metadata": {
        "colab": {
          "base_uri": "https://localhost:8080/"
        },
        "id": "SgebhljmvTfA",
        "outputId": "cd721788-3c70-486b-94f0-a28091d9b34b"
      },
      "execution_count": 6,
      "outputs": [
        {
          "output_type": "stream",
          "name": "stdout",
          "text": [
            "10000 articles processed.\n",
            "20000 articles processed.\n",
            "30000 articles processed.\n",
            "32786 articles processed.\n"
          ]
        }
      ]
    },
    {
      "cell_type": "code",
      "source": [
        "import jieba\n",
        "#匯入jieba庫，用於中文將中文文本分割成單詞或短語。\n",
        "from opencc import OpenCC\n",
        "#從opencc模組中匯入OpenCC類別，用於中文簡繁轉換。"
      ],
      "metadata": {
        "id": "O9JVtcCiw6n4"
      },
      "execution_count": 7,
      "outputs": []
    },
    {
      "cell_type": "code",
      "source": [
        "cc = OpenCC('s2t')\n",
        "#創建了一個OpenCC類的實例cc，並設置轉換配置為's2t'，將簡體中文轉換為繁體中文。\n",
        "train_data = open('wiki_text.txt', 'r', encoding='utf-8').read()\n",
        "#讀取整個文件內容，將其存儲在變數train_data中。\n",
        "train_data = cc.convert(train_data)\n",
        "#將文本從簡體中文轉換為繁體中文，並存儲回train_data。\n",
        "train_data = jieba.lcut(train_data)\n",
        "#將文本切分為單詞列表，並將結果存儲在train_data中。\n",
        "train_data = [word for word in train_data if word != '']\n",
        "#使用列表推導式過濾掉train_data中的空字符串，保留非空的單詞。\n",
        "train_data = ' '.join(train_data)\n",
        "#將train_data中的單詞列表連接成一個字符串，單詞之間用空格分隔。\n",
        "open('seg.txt', 'w', encoding='utf-8').write(train_data)\n",
        "#將train_data中的內容寫入seg.txt中。"
      ],
      "metadata": {
        "colab": {
          "base_uri": "https://localhost:8080/"
        },
        "id": "DWTU6goQw70w",
        "outputId": "da61f7bd-0c26-4b94-f806-06cbb0385c84"
      },
      "execution_count": 8,
      "outputs": [
        {
          "output_type": "stream",
          "name": "stderr",
          "text": [
            "Building prefix dict from the default dictionary ...\n",
            "DEBUG:jieba:Building prefix dict from the default dictionary ...\n",
            "Dumping model to file cache /tmp/jieba.cache\n",
            "DEBUG:jieba:Dumping model to file cache /tmp/jieba.cache\n",
            "Loading model cost 1.525 seconds.\n",
            "DEBUG:jieba:Loading model cost 1.525 seconds.\n",
            "Prefix dict has been built successfully.\n",
            "DEBUG:jieba:Prefix dict has been built successfully.\n"
          ]
        },
        {
          "output_type": "execute_result",
          "data": {
            "text/plain": [
              "136623985"
            ]
          },
          "metadata": {},
          "execution_count": 8
        }
      ]
    },
    {
      "cell_type": "code",
      "source": [
        "from gensim.models import word2vec\n",
        "#從gensim.models模組中匯入word2vec類，用於訓練詞嵌入模型。\n",
        "\n",
        "# Settings\n",
        "seed = 666\n",
        "sg = 0\n",
        "window_size = 10\n",
        "#vector_size = 100\n",
        "min_count = 1\n",
        "workers = 8\n",
        "#epochs = 5\n",
        "batch_words = 10000\n",
        "\n",
        "train_data = word2vec.LineSentence('seg.txt')\n",
        "#讀取seg.txt文件中的訓練數據，並將其轉換為LineSentence對象。\n",
        "model = word2vec.Word2Vec(\n",
        "    train_data,\n",
        "    min_count=min_count,\n",
        "    #size=vector_size,\n",
        "    workers=workers,\n",
        "    #iter=epochs,\n",
        "    window=window_size,\n",
        "    sg=sg,\n",
        "    seed=seed,\n",
        "    #隨機數生成器的種子。\n",
        "    batch_words=batch_words\n",
        ")\n",
        "\n",
        "model.save('word2vec.model')\n",
        "#將訓練好的Word2Vec模型保存為word2vec.model文件。"
      ],
      "metadata": {
        "id": "DQS_FvGQ4tWe"
      },
      "execution_count": 1,
      "outputs": []
    },
    {
      "cell_type": "code",
      "source": [
        "from gensim.models import word2vec\n",
        "#從gensim.models模組中匯入word2vec類，用於訓練和使用詞嵌入模型。\n",
        "\n",
        "string = '電腦'\n",
        "#定義了一個字符串變數string。\n",
        "model = word2vec.Word2Vec.load('word2vec.model')\n",
        "#加載之前訓練並保存的Word2Vec模型。\n",
        "print(string)\n",
        "#打印變數string的值。\n",
        "\n",
        "for item in model.wv.most_similar(string):\n",
        "#用模型的most_similar方法來查找與string最相似的詞語。\n",
        "    print(item)\n",
        "    #打印每個相似詞及其相似度分數。"
      ],
      "metadata": {
        "colab": {
          "base_uri": "https://localhost:8080/"
        },
        "id": "hE8hiv5-7rc6",
        "outputId": "d08ab237-0f6c-4d92-ed84-79f84165080b"
      },
      "execution_count": 2,
      "outputs": [
        {
          "output_type": "stream",
          "name": "stdout",
          "text": [
            "電腦\n",
            "('計算機', 0.7834277749061584)\n",
            "('軟體', 0.7683297395706177)\n",
            "('pda', 0.7601998448371887)\n",
            "('硬體', 0.7476744055747986)\n",
            "('遊戲機', 0.7404897809028625)\n",
            "('手機', 0.7333237528800964)\n",
            "('家用', 0.718396008014679)\n",
            "('顯示器', 0.7166241407394409)\n",
            "('程式', 0.7159078121185303)\n",
            "('pc', 0.71230149269104)\n"
          ]
        }
      ]
    }
  ]
}